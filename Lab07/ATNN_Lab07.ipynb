{
  "nbformat": 4,
  "nbformat_minor": 0,
  "metadata": {
    "colab": {
      "provenance": []
    },
    "kernelspec": {
      "name": "python3",
      "display_name": "Python 3"
    },
    "language_info": {
      "name": "python"
    }
  },
  "cells": [
    {
      "cell_type": "code",
      "execution_count": 1,
      "metadata": {
        "id": "7r8_rfnBESws"
      },
      "outputs": [],
      "source": [
        "import torch\n",
        "\n",
        "def get_device():\n",
        "\n",
        "    if torch.cuda.is_available():\n",
        "        return torch.device('cuda')\n",
        "    elif torch.backends.mps.is_available():\n",
        "        return torch.device('mos')\n",
        "    return torch.device('cpu')\n",
        "\n",
        "\n",
        "class Conv2d_by_hand(torch.nn.Module):\n",
        "    def __init__(self, weights):\n",
        "        super(Conv2d_by_hand, self).__init__()\n",
        "        self.weights = weights\n",
        "\n",
        "    def forward(self, x):\n",
        "        # get dimensions -> set return dimensions\n",
        "        batch, input_chn, input_height, input_width = x.shape\n",
        "        ret_chn, _, kernel_height, kernel_width = self.weights.shape\n",
        "\n",
        "        ret_height = input_height - kernel_height + 1\n",
        "        ret_width = input_width - kernel_width + 1\n",
        "\n",
        "        # reshape (for matmul) -> matmul -> reshape (for return)\n",
        "        x_reshape = x.unfold(2, kernel_height, 1).unfold(3, kernel_width, 1)\n",
        "        x_reshape = x_reshape.permute(0, 2, 3, 1, 4, 5).contiguous().view(batch, ret_height, ret_width, -1)\n",
        "\n",
        "        w_reshape = self.weights.view(ret_chn, -1).t()\n",
        "\n",
        "        ret = torch.matmul(x_reshape, w_reshape).view(batch, ret_height, ret_width, ret_chn)\n",
        "        ret = ret.permute(0, 3, 1, 2).contiguous()\n",
        "\n",
        "        return ret"
      ]
    },
    {
      "cell_type": "code",
      "source": [
        "device = get_device()\n",
        "print(device)\n",
        "\n",
        "inp = torch.randn(1, 3, 10, 12).to(device)\n",
        "\n",
        "\n",
        "w = torch.randn(2, 3, 4, 5).to(device)\n",
        "\n",
        "\n",
        "custom_conv2d_layer = Conv2d_by_hand(weights = w)\n",
        "\n",
        "out = custom_conv2d_layer(inp)\n",
        "\n",
        "print ((torch.nn.functional.conv2d(inp,w) - out).abs().max())"
      ],
      "metadata": {
        "colab": {
          "base_uri": "https://localhost:8080/"
        },
        "id": "QK6lLxsuEZ8-",
        "outputId": "f1e67333-fefd-4273-cdab-6d8fd043872d"
      },
      "execution_count": 10,
      "outputs": [
        {
          "output_type": "stream",
          "name": "stdout",
          "text": [
            "cpu\n",
            "tensor(3.8147e-06)\n"
          ]
        }
      ]
    }
  ]
}