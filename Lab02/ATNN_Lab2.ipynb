{
  "nbformat": 4,
  "nbformat_minor": 0,
  "metadata": {
    "colab": {
      "provenance": []
    },
    "kernelspec": {
      "name": "python3",
      "display_name": "Python 3"
    },
    "language_info": {
      "name": "python"
    }
  },
  "cells": [
    {
      "cell_type": "code",
      "execution_count": 1,
      "metadata": {
        "id": "m5YC78LGibPF"
      },
      "outputs": [],
      "source": [
        "import torch\n",
        "import numpy as np\n",
        "\n",
        "def sigmoid(z):\n",
        "   return 1 / (1 + np.exp(-z))"
      ]
    },
    {
      "cell_type": "code",
      "source": [
        "#m = input(\"Please enter an integer: \")\n",
        "\n",
        "x = torch.rand(3, 784)\n",
        "\n",
        "w = torch.rand(784, 10)\n",
        "\n",
        "b = torch.rand((1, 10))\n",
        "\n",
        "y_true = torch.tensor([[1,    #0\n",
        "                        0,    #1\n",
        "                        0,    #2\n",
        "                        0,    #3\n",
        "                        0,    #4\n",
        "                        0,    #5\n",
        "                        0,    #6\n",
        "                        0,    #7\n",
        "                        0,    #8\n",
        "                        0,]]) #9"
      ],
      "metadata": {
        "id": "pXLxfBY0XpsN"
      },
      "execution_count": 73,
      "outputs": []
    },
    {
      "cell_type": "code",
      "source": [
        "def train_perceptron(x, w, b, y_true, mu):\n",
        "\n",
        "  #For every photo of 28X28\n",
        "  for p, _ in enumerate(x):\n",
        "\n",
        "    print(p)\n",
        "\n",
        "    photo = x[p]\n",
        "    ##Forward##\n",
        "    z = torch.mm(photo.unsqueeze(0),w)\n",
        "    z = z + b\n",
        "\n",
        "    #Activation\n",
        "    y_aprox = z.clone()  # Clone the original tensor to avoid modifying it in-place\n",
        "    y_aprox.apply_(lambda x: sigmoid(x))\n",
        "\n",
        "    #Loss\n",
        "    Error = y_true - y_aprox\n",
        "\n",
        "    ##Back##\n",
        "    #For every perceptron\n",
        "    for i in range(10):\n",
        "      b[0][i] = b[0][i] + mu * Error[0][i]\n",
        "      #For every weight\n",
        "      for j in range(784):\n",
        "        w[j][i] = w[j][i] + mu * x[p][j] * Error[0][i]\n",
        "\n",
        "    print(\"Weights on iteration \", p)\n",
        "    print(w)\n",
        "    print(\"Biases on iteration \", p)\n",
        "    print(b)\n",
        "    print()\n",
        "\n",
        "  print(\"Final Values\")\n",
        "  return w, b"
      ],
      "metadata": {
        "id": "xppjCf5WzjA4"
      },
      "execution_count": 71,
      "outputs": []
    },
    {
      "cell_type": "code",
      "source": [
        "train_perceptron(x, w, b, y_true, 0.5)"
      ],
      "metadata": {
        "colab": {
          "base_uri": "https://localhost:8080/"
        },
        "id": "KQndux0EZIKa",
        "outputId": "9d0c5cf8-9a8d-4e44-c76f-49818665ed28"
      },
      "execution_count": 74,
      "outputs": [
        {
          "output_type": "stream",
          "name": "stdout",
          "text": [
            "0\n",
            "Weights on iteration  0\n",
            "tensor([[ 0.7222,  0.5424, -0.0130,  ...,  0.2928,  0.3359,  0.8251],\n",
            "        [ 0.7839,  0.5096,  0.4571,  ...,  0.5978,  0.5107,  0.6101],\n",
            "        [ 0.4941,  0.8584,  0.8452,  ..., -0.1253,  0.3096, -0.1038],\n",
            "        ...,\n",
            "        [ 0.6583,  0.7669,  0.4340,  ...,  0.2215,  0.8747,  0.4457],\n",
            "        [ 0.4016, -0.3864, -0.4305,  ..., -0.2472, -0.4210,  0.0218],\n",
            "        [ 0.2040, -0.3888, -0.2891,  ...,  0.0657,  0.1610, -0.3547]])\n",
            "Biases on iteration  0\n",
            "tensor([[ 0.0098, -0.4960, -0.0409, -0.4217, -0.1909,  0.4731,  0.1603,  0.0920,\n",
            "         -0.1464, -0.2056]])\n",
            "\n",
            "1\n",
            "Weights on iteration  1\n",
            "tensor([[ 0.7222,  0.0960, -0.4593,  ..., -0.1535, -0.1105,  0.3787],\n",
            "        [ 0.7839,  0.3794,  0.3269,  ...,  0.4676,  0.3805,  0.4799],\n",
            "        [ 0.4941,  0.6139,  0.6007,  ..., -0.3698,  0.0651, -0.3483],\n",
            "        ...,\n",
            "        [ 0.6583,  0.4915,  0.1586,  ..., -0.0539,  0.5993,  0.1704],\n",
            "        [ 0.4016, -0.4848, -0.5290,  ..., -0.3456, -0.5194, -0.0767],\n",
            "        [ 0.2040, -0.6671, -0.5674,  ..., -0.2126, -0.1173, -0.6330]])\n",
            "Biases on iteration  1\n",
            "tensor([[ 0.0098, -0.9960, -0.5409, -0.9217, -0.6909, -0.0269, -0.3397, -0.4080,\n",
            "         -0.6464, -0.7056]])\n",
            "\n",
            "2\n",
            "Weights on iteration  2\n",
            "tensor([[ 0.7222,  0.0158, -0.6162,  ..., -0.2295, -0.1141,  0.3536],\n",
            "        [ 0.7839,  0.1857, -0.0517,  ...,  0.2843,  0.3718,  0.4192],\n",
            "        [ 0.4941,  0.6107,  0.5945,  ..., -0.3728,  0.0649, -0.3493],\n",
            "        ...,\n",
            "        [ 0.6583,  0.3593, -0.1000,  ..., -0.1791,  0.5933,  0.1289],\n",
            "        [ 0.4016, -0.6774, -0.9054,  ..., -0.5279, -0.5281, -0.1370],\n",
            "        [ 0.2040, -0.7996, -0.8263,  ..., -0.3380, -0.1233, -0.6745]])\n",
            "Biases on iteration  2\n",
            "tensor([[ 0.0098, -1.1976, -0.9350, -0.9398, -1.1901, -0.0306, -0.6770, -0.5988,\n",
            "         -0.6555, -0.7687]])\n",
            "\n",
            "Final Values\n"
          ]
        },
        {
          "output_type": "execute_result",
          "data": {
            "text/plain": [
              "(tensor([[ 0.7222,  0.0158, -0.6162,  ..., -0.2295, -0.1141,  0.3536],\n",
              "         [ 0.7839,  0.1857, -0.0517,  ...,  0.2843,  0.3718,  0.4192],\n",
              "         [ 0.4941,  0.6107,  0.5945,  ..., -0.3728,  0.0649, -0.3493],\n",
              "         ...,\n",
              "         [ 0.6583,  0.3593, -0.1000,  ..., -0.1791,  0.5933,  0.1289],\n",
              "         [ 0.4016, -0.6774, -0.9054,  ..., -0.5279, -0.5281, -0.1370],\n",
              "         [ 0.2040, -0.7996, -0.8263,  ..., -0.3380, -0.1233, -0.6745]]),\n",
              " tensor([[ 0.0098, -1.1976, -0.9350, -0.9398, -1.1901, -0.0306, -0.6770, -0.5988,\n",
              "          -0.6555, -0.7687]]))"
            ]
          },
          "metadata": {},
          "execution_count": 74
        }
      ]
    }
  ]
}